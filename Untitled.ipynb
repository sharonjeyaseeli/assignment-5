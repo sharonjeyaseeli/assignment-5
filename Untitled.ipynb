{
 "cells": [
  {
   "cell_type": "code",
   "execution_count": 1,
   "id": "3e88f0fe",
   "metadata": {},
   "outputs": [],
   "source": [
    "class power:\n",
    "    def __intit(self):\n",
    "        self.x=x\n",
    "        self.n=n\n",
    "    def cal_power(self,x,n):\n",
    "        self.x=x\n",
    "        self.n=n\n",
    "        return pow(x, n)\n",
    "p=power()\n",
    "\n",
    "\n",
    "    "
   ]
  },
  {
   "cell_type": "code",
   "execution_count": 2,
   "id": "0ad8545a",
   "metadata": {},
   "outputs": [
    {
     "data": {
      "text/plain": [
       "100"
      ]
     },
     "execution_count": 2,
     "metadata": {},
     "output_type": "execute_result"
    }
   ],
   "source": [
    "p.cal_power(10,2)"
   ]
  },
  {
   "cell_type": "code",
   "execution_count": null,
   "id": "dc524d85",
   "metadata": {},
   "outputs": [],
   "source": []
  }
 ],
 "metadata": {
  "kernelspec": {
   "display_name": "Python 3 (ipykernel)",
   "language": "python",
   "name": "python3"
  },
  "language_info": {
   "codemirror_mode": {
    "name": "ipython",
    "version": 3
   },
   "file_extension": ".py",
   "mimetype": "text/x-python",
   "name": "python",
   "nbconvert_exporter": "python",
   "pygments_lexer": "ipython3",
   "version": "3.10.2"
  }
 },
 "nbformat": 4,
 "nbformat_minor": 5
}
